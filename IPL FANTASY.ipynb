{
 "cells": [
  {
   "cell_type": "code",
   "execution_count": null,
   "id": "e54f5ad7",
   "metadata": {},
   "outputs": [],
   "source": [
    "import warnings\n",
    "warnings.filterwarnings('ignore')\n",
    "\n",
    "import pandas as pd\n",
    "import numpy as np\n",
    "\n",
    "import matplotlib.pyplot as plt\n",
    "\n",
    "#to display all rows columns \n",
    "pd.set_option('display.max_rows', None)\n",
    "pd.set_option('display.max_columns', None)  \n",
    "pd.set_option('display.expand_frame_repr', False)\n",
    "pd.set_option('max_colwidth', -1)"
   ]
  },
  {
   "cell_type": "code",
   "execution_count": null,
   "id": "b40ab59b",
   "metadata": {},
   "outputs": [],
   "source": [
    "df = pd.read_csv('all_matches.csv')"
   ]
  },
  {
   "cell_type": "code",
   "execution_count": null,
   "id": "ccc068c8",
   "metadata": {},
   "outputs": [],
   "source": [
    "df.tail()"
   ]
  },
  {
   "cell_type": "markdown",
   "id": "10d20ddb",
   "metadata": {},
   "source": [
    "# batting"
   ]
  },
  {
   "cell_type": "code",
   "execution_count": null,
   "id": "5418b2ab",
   "metadata": {},
   "outputs": [],
   "source": [
    "req_df = df[ (df.striker == 'RG Sharma')& (df.venue == 'M Chinnaswamy Stadium')]"
   ]
  },
  {
   "cell_type": "code",
   "execution_count": null,
   "id": "bafe32ec",
   "metadata": {},
   "outputs": [],
   "source": [
    "req_df"
   ]
  },
  {
   "cell_type": "code",
   "execution_count": null,
   "id": "eb2066b5",
   "metadata": {},
   "outputs": [],
   "source": [
    "# runs scored\n",
    "sum(req_df.runs_off_bat)"
   ]
  },
  {
   "cell_type": "code",
   "execution_count": null,
   "id": "9f583e2a",
   "metadata": {},
   "outputs": [],
   "source": [
    "# balls faced\n",
    "len(req_df)"
   ]
  },
  {
   "cell_type": "code",
   "execution_count": null,
   "id": "a6ea91a2",
   "metadata": {},
   "outputs": [],
   "source": [
    "# outs\n",
    "x=len(req_df[req_df.player_dismissed =='AT Rayudu'])\n",
    "print(x)"
   ]
  },
  {
   "cell_type": "code",
   "execution_count": null,
   "id": "4593d480",
   "metadata": {},
   "outputs": [],
   "source": [
    "#AVG\n",
    "sum(req_df.runs_off_bat)/x"
   ]
  },
  {
   "cell_type": "code",
   "execution_count": null,
   "id": "6a7a9384",
   "metadata": {},
   "outputs": [],
   "source": [
    "# strike rate\n",
    "100*sum(req_df.runs_off_bat)/len(req_df)"
   ]
  },
  {
   "cell_type": "markdown",
   "id": "c79c1591",
   "metadata": {},
   "source": [
    "# bowling"
   ]
  },
  {
   "cell_type": "code",
   "execution_count": null,
   "id": "2f08fa12",
   "metadata": {},
   "outputs": [],
   "source": [
    "req_df1 = df[(df.bowler == 'Shivam Mavi') & (df.batting_team == 'Chennai Super Kings')]"
   ]
  },
  {
   "cell_type": "code",
   "execution_count": null,
   "id": "aa0dac24",
   "metadata": {},
   "outputs": [],
   "source": [
    "req_df1"
   ]
  },
  {
   "cell_type": "code",
   "execution_count": null,
   "id": "56ebb6a3",
   "metadata": {},
   "outputs": [],
   "source": [
    "# BALLS\n",
    "len(req_df1)"
   ]
  },
  {
   "cell_type": "code",
   "execution_count": null,
   "id": "79d5c9a3",
   "metadata": {},
   "outputs": [],
   "source": [
    "# wickets\n",
    "sum(req_df1['wicket_type'].value_counts())"
   ]
  },
  {
   "cell_type": "code",
   "execution_count": null,
   "id": "4d7f526f",
   "metadata": {},
   "outputs": [],
   "source": [
    "# AVG\n",
    "sum(req_df1.runs_off_bat)/sum(req_df1['wicket_type'].value_counts())\n"
   ]
  },
  {
   "cell_type": "code",
   "execution_count": null,
   "id": "30671cfe",
   "metadata": {},
   "outputs": [],
   "source": [
    "# SR\n",
    "len(req_df1)/sum(req_df1['wicket_type'].value_counts())\n"
   ]
  },
  {
   "cell_type": "code",
   "execution_count": null,
   "id": "d3b5508c",
   "metadata": {},
   "outputs": [],
   "source": [
    "# ECO\n",
    "sum(req_df1.runs_off_bat)/(len(req_df1)/6)\n"
   ]
  },
  {
   "cell_type": "markdown",
   "id": "84f5e5d8",
   "metadata": {},
   "source": [
    "# VENUE\n"
   ]
  },
  {
   "cell_type": "code",
   "execution_count": null,
   "id": "6bc3350c",
   "metadata": {},
   "outputs": [],
   "source": [
    "req_dfv = df[['venue','runs_off_bat','striker']]"
   ]
  },
  {
   "cell_type": "code",
   "execution_count": null,
   "id": "5ec230e7",
   "metadata": {},
   "outputs": [],
   "source": []
  },
  {
   "cell_type": "code",
   "execution_count": null,
   "id": "8f4ecd9f",
   "metadata": {},
   "outputs": [],
   "source": []
  },
  {
   "cell_type": "code",
   "execution_count": null,
   "id": "07885286",
   "metadata": {},
   "outputs": [],
   "source": []
  },
  {
   "cell_type": "code",
   "execution_count": null,
   "id": "c11da867",
   "metadata": {},
   "outputs": [],
   "source": []
  },
  {
   "cell_type": "code",
   "execution_count": null,
   "id": "6d8fb01a",
   "metadata": {},
   "outputs": [],
   "source": []
  }
 ],
 "metadata": {
  "kernelspec": {
   "display_name": "Python 3 (ipykernel)",
   "language": "python",
   "name": "python3"
  },
  "language_info": {
   "codemirror_mode": {
    "name": "ipython",
    "version": 3
   },
   "file_extension": ".py",
   "mimetype": "text/x-python",
   "name": "python",
   "nbconvert_exporter": "python",
   "pygments_lexer": "ipython3",
   "version": "3.9.7"
  }
 },
 "nbformat": 4,
 "nbformat_minor": 5
}
