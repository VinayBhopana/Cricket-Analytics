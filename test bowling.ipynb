{
 "cells": [
  {
   "cell_type": "code",
   "execution_count": 65,
   "id": "72f47c9d",
   "metadata": {},
   "outputs": [],
   "source": [
    "import warnings\n",
    "warnings.filterwarnings('ignore')\n",
    "\n",
    "import pandas as pd\n",
    "import numpy as np\n",
    "\n",
    "import matplotlib.pyplot as plt\n",
    "\n",
    "#to display all rows columns \n",
    "pd.set_option('display.max_rows', None)\n",
    "pd.set_option('display.max_columns', None)  \n",
    "pd.set_option('display.expand_frame_repr', False)\n",
    "pd.set_option('max_colwidth', -1)"
   ]
  },
  {
   "cell_type": "code",
   "execution_count": 24,
   "id": "4fcf4b7c",
   "metadata": {},
   "outputs": [],
   "source": [
    "df_bowling = pd.read_csv('Test Player Innings Stats - All Teams.csv')"
   ]
  },
  {
   "cell_type": "code",
   "execution_count": 26,
   "id": "8809b1fc",
   "metadata": {},
   "outputs": [
    {
     "data": {
      "text/html": [
       "<div>\n",
       "<style scoped>\n",
       "    .dataframe tbody tr th:only-of-type {\n",
       "        vertical-align: middle;\n",
       "    }\n",
       "\n",
       "    .dataframe tbody tr th {\n",
       "        vertical-align: top;\n",
       "    }\n",
       "\n",
       "    .dataframe thead th {\n",
       "        text-align: right;\n",
       "    }\n",
       "</style>\n",
       "<table border=\"1\" class=\"dataframe\">\n",
       "  <thead>\n",
       "    <tr style=\"text-align: right;\">\n",
       "      <th></th>\n",
       "      <th>Innings Player</th>\n",
       "      <th>Innings Runs Scored</th>\n",
       "      <th>Innings Runs Scored Num</th>\n",
       "      <th>Innings Minutes Batted</th>\n",
       "      <th>Innings Batted Flag</th>\n",
       "      <th>Innings Not Out Flag</th>\n",
       "      <th>Innings Balls Faced</th>\n",
       "      <th>Innings Boundary Fours</th>\n",
       "      <th>Innings Boundary Sixes</th>\n",
       "      <th>Innings Batting Strike Rate</th>\n",
       "      <th>Innings Number</th>\n",
       "      <th>Opposition</th>\n",
       "      <th>Ground</th>\n",
       "      <th>Innings Date</th>\n",
       "      <th>Country</th>\n",
       "      <th>50's</th>\n",
       "      <th>100's</th>\n",
       "      <th>Innings Runs Scored Buckets</th>\n",
       "      <th>Innings Overs Bowled</th>\n",
       "      <th>Innings Bowled Flag</th>\n",
       "      <th>Innings Maidens Bowled</th>\n",
       "      <th>Innings Runs Conceded</th>\n",
       "      <th>Innings Wickets Taken</th>\n",
       "      <th>4 Wickets</th>\n",
       "      <th>5 Wickets</th>\n",
       "      <th>10 Wickets</th>\n",
       "      <th>Innings Wickets Taken Buckets</th>\n",
       "      <th>Innings Economy Rate</th>\n",
       "    </tr>\n",
       "  </thead>\n",
       "  <tbody>\n",
       "    <tr>\n",
       "      <th>0</th>\n",
       "      <td>L Hutton</td>\n",
       "      <td>364</td>\n",
       "      <td>364</td>\n",
       "      <td>797</td>\n",
       "      <td>1.0</td>\n",
       "      <td>0.0</td>\n",
       "      <td>847</td>\n",
       "      <td>35</td>\n",
       "      <td>0</td>\n",
       "      <td>42.97</td>\n",
       "      <td>1</td>\n",
       "      <td>v Australia</td>\n",
       "      <td>The Oval</td>\n",
       "      <td>1938/08/20</td>\n",
       "      <td>England</td>\n",
       "      <td>0.0</td>\n",
       "      <td>1.0</td>\n",
       "      <td>200+</td>\n",
       "      <td>NaN</td>\n",
       "      <td>NaN</td>\n",
       "      <td>NaN</td>\n",
       "      <td>NaN</td>\n",
       "      <td>NaN</td>\n",
       "      <td>NaN</td>\n",
       "      <td>NaN</td>\n",
       "      <td>NaN</td>\n",
       "      <td>NaN</td>\n",
       "      <td>NaN</td>\n",
       "    </tr>\n",
       "    <tr>\n",
       "      <th>1</th>\n",
       "      <td>WR Hammond</td>\n",
       "      <td>336*</td>\n",
       "      <td>336</td>\n",
       "      <td>318</td>\n",
       "      <td>1.0</td>\n",
       "      <td>1.0</td>\n",
       "      <td>-</td>\n",
       "      <td>34</td>\n",
       "      <td>10</td>\n",
       "      <td>-</td>\n",
       "      <td>2</td>\n",
       "      <td>v New Zealand</td>\n",
       "      <td>Auckland</td>\n",
       "      <td>1933/03/31</td>\n",
       "      <td>England</td>\n",
       "      <td>0.0</td>\n",
       "      <td>1.0</td>\n",
       "      <td>200+</td>\n",
       "      <td>NaN</td>\n",
       "      <td>NaN</td>\n",
       "      <td>NaN</td>\n",
       "      <td>NaN</td>\n",
       "      <td>NaN</td>\n",
       "      <td>NaN</td>\n",
       "      <td>NaN</td>\n",
       "      <td>NaN</td>\n",
       "      <td>NaN</td>\n",
       "      <td>NaN</td>\n",
       "    </tr>\n",
       "    <tr>\n",
       "      <th>2</th>\n",
       "      <td>GA Gooch</td>\n",
       "      <td>333</td>\n",
       "      <td>333</td>\n",
       "      <td>628</td>\n",
       "      <td>1.0</td>\n",
       "      <td>0.0</td>\n",
       "      <td>485</td>\n",
       "      <td>43</td>\n",
       "      <td>3</td>\n",
       "      <td>68.65</td>\n",
       "      <td>1</td>\n",
       "      <td>v India</td>\n",
       "      <td>Lord's</td>\n",
       "      <td>1990/07/26</td>\n",
       "      <td>England</td>\n",
       "      <td>0.0</td>\n",
       "      <td>1.0</td>\n",
       "      <td>200+</td>\n",
       "      <td>NaN</td>\n",
       "      <td>NaN</td>\n",
       "      <td>NaN</td>\n",
       "      <td>NaN</td>\n",
       "      <td>NaN</td>\n",
       "      <td>NaN</td>\n",
       "      <td>NaN</td>\n",
       "      <td>NaN</td>\n",
       "      <td>NaN</td>\n",
       "      <td>NaN</td>\n",
       "    </tr>\n",
       "    <tr>\n",
       "      <th>3</th>\n",
       "      <td>A Sandham</td>\n",
       "      <td>325</td>\n",
       "      <td>325</td>\n",
       "      <td>600</td>\n",
       "      <td>1.0</td>\n",
       "      <td>0.0</td>\n",
       "      <td>640</td>\n",
       "      <td>28</td>\n",
       "      <td>0</td>\n",
       "      <td>50.78</td>\n",
       "      <td>1</td>\n",
       "      <td>v West Indies</td>\n",
       "      <td>Kingston</td>\n",
       "      <td>1930/04/03</td>\n",
       "      <td>England</td>\n",
       "      <td>0.0</td>\n",
       "      <td>1.0</td>\n",
       "      <td>200+</td>\n",
       "      <td>NaN</td>\n",
       "      <td>NaN</td>\n",
       "      <td>NaN</td>\n",
       "      <td>NaN</td>\n",
       "      <td>NaN</td>\n",
       "      <td>NaN</td>\n",
       "      <td>NaN</td>\n",
       "      <td>NaN</td>\n",
       "      <td>NaN</td>\n",
       "      <td>NaN</td>\n",
       "    </tr>\n",
       "    <tr>\n",
       "      <th>4</th>\n",
       "      <td>JH Edrich</td>\n",
       "      <td>310*</td>\n",
       "      <td>310</td>\n",
       "      <td>532</td>\n",
       "      <td>1.0</td>\n",
       "      <td>1.0</td>\n",
       "      <td>450</td>\n",
       "      <td>52</td>\n",
       "      <td>5</td>\n",
       "      <td>68.88</td>\n",
       "      <td>1</td>\n",
       "      <td>v New Zealand</td>\n",
       "      <td>Leeds</td>\n",
       "      <td>1965/07/08</td>\n",
       "      <td>England</td>\n",
       "      <td>0.0</td>\n",
       "      <td>1.0</td>\n",
       "      <td>200+</td>\n",
       "      <td>NaN</td>\n",
       "      <td>NaN</td>\n",
       "      <td>NaN</td>\n",
       "      <td>NaN</td>\n",
       "      <td>NaN</td>\n",
       "      <td>NaN</td>\n",
       "      <td>NaN</td>\n",
       "      <td>NaN</td>\n",
       "      <td>NaN</td>\n",
       "      <td>NaN</td>\n",
       "    </tr>\n",
       "  </tbody>\n",
       "</table>\n",
       "</div>"
      ],
      "text/plain": [
       "  Innings Player Innings Runs Scored Innings Runs Scored Num Innings Minutes Batted  Innings Batted Flag  Innings Not Out Flag Innings Balls Faced Innings Boundary Fours Innings Boundary Sixes Innings Batting Strike Rate Innings Number     Opposition    Ground Innings Date  Country  50's  100's Innings Runs Scored Buckets Innings Overs Bowled  Innings Bowled Flag Innings Maidens Bowled Innings Runs Conceded Innings Wickets Taken  4 Wickets  5 Wickets  10 Wickets Innings Wickets Taken Buckets Innings Economy Rate\n",
       "0  L Hutton       364                 364                     797                    1.0                  0.0                   847                 35                     0                      42.97                       1              v Australia    The Oval  1938/08/20   England  0.0   1.0    200+                        NaN                 NaN                   NaN                    NaN                   NaN                  NaN        NaN        NaN          NaN                           NaN                \n",
       "1  WR Hammond     336*                336                     318                    1.0                  1.0                   -                   34                     10                     -                           2              v New Zealand  Auckland  1933/03/31   England  0.0   1.0    200+                        NaN                 NaN                   NaN                    NaN                   NaN                  NaN        NaN        NaN          NaN                           NaN                \n",
       "2  GA Gooch       333                 333                     628                    1.0                  0.0                   485                 43                     3                      68.65                       1              v India        Lord's    1990/07/26   England  0.0   1.0    200+                        NaN                 NaN                   NaN                    NaN                   NaN                  NaN        NaN        NaN          NaN                           NaN                \n",
       "3  A Sandham      325                 325                     600                    1.0                  0.0                   640                 28                     0                      50.78                       1              v West Indies  Kingston  1930/04/03   England  0.0   1.0    200+                        NaN                 NaN                   NaN                    NaN                   NaN                  NaN        NaN        NaN          NaN                           NaN                \n",
       "4  JH Edrich      310*                310                     532                    1.0                  1.0                   450                 52                     5                      68.88                       1              v New Zealand  Leeds     1965/07/08   England  0.0   1.0    200+                        NaN                 NaN                   NaN                    NaN                   NaN                  NaN        NaN        NaN          NaN                           NaN                "
      ]
     },
     "execution_count": 26,
     "metadata": {},
     "output_type": "execute_result"
    }
   ],
   "source": [
    "df_bowling.head()"
   ]
  },
  {
   "cell_type": "code",
   "execution_count": null,
   "id": "04185563",
   "metadata": {},
   "outputs": [],
   "source": []
  },
  {
   "cell_type": "code",
   "execution_count": 27,
   "id": "7b8182d3",
   "metadata": {},
   "outputs": [],
   "source": [
    "df_bowling = df_bowling[['Innings Player','Innings Overs Bowled','Innings Bowled Flag','Innings Maidens Bowled','Innings Runs Conceded','Innings Wickets Taken','4 Wickets','5 Wickets', 'Innings Economy Rate','Country']]"
   ]
  },
  {
   "cell_type": "code",
   "execution_count": 29,
   "id": "d42835c2",
   "metadata": {},
   "outputs": [],
   "source": [
    "df_bowling=df_bowling.dropna()"
   ]
  },
  {
   "cell_type": "code",
   "execution_count": 31,
   "id": "e7a653e3",
   "metadata": {},
   "outputs": [],
   "source": [
    "df_bowling = df_bowling[~df_bowling['Innings Overs Bowled'].isin(['-'])]\n",
    "df_bowling = df_bowling[~df_bowling['Innings Bowled Flag'].isin(['-'])]\n",
    "df_bowling = df_bowling[~df_bowling['Innings Maidens Bowled'].isin(['-'])]\n",
    "df_bowling = df_bowling[~df_bowling['Innings Runs Conceded'].isin(['-'])]\n",
    "df_bowling = df_bowling[~df_bowling['Innings Wickets Taken'].isin(['-'])]\n",
    "df_bowling = df_bowling[~df_bowling['4 Wickets'].isin(['-'])]\n",
    "df_bowling = df_bowling[~df_bowling['5 Wickets'].isin(['-'])]\n",
    "df_bowling = df_bowling[~df_bowling['Innings Economy Rate'].isin(['-'])]"
   ]
  },
  {
   "cell_type": "code",
   "execution_count": 32,
   "id": "3a3a5928",
   "metadata": {},
   "outputs": [],
   "source": [
    "df_bowling['Innings Overs Bowled'] = df_bowling['Innings Overs Bowled'].astype(float)\n",
    "df_bowling['Innings Bowled Flag'] = df_bowling['Innings Bowled Flag'].astype(int)\n",
    "df_bowling['Innings Maidens Bowled'] = df_bowling['Innings Maidens Bowled'].astype(int)\n",
    "df_bowling['Innings Runs Conceded'] = df_bowling['Innings Runs Conceded'].astype(int)\n",
    "df_bowling['Innings Wickets Taken'] = df_bowling['Innings Wickets Taken'].astype(int)\n",
    "df_bowling['4 Wickets'] = df_bowling['4 Wickets'].astype(int)\n",
    "df_bowling['5 Wickets'] = df_bowling['5 Wickets'].astype(int)\n",
    "df_bowling['Innings Economy Rate'] = df_bowling['Innings Economy Rate'].astype(float)"
   ]
  },
  {
   "cell_type": "code",
   "execution_count": 170,
   "id": "b888da87",
   "metadata": {},
   "outputs": [
    {
     "data": {
      "text/html": [
       "<div>\n",
       "<style scoped>\n",
       "    .dataframe tbody tr th:only-of-type {\n",
       "        vertical-align: middle;\n",
       "    }\n",
       "\n",
       "    .dataframe tbody tr th {\n",
       "        vertical-align: top;\n",
       "    }\n",
       "\n",
       "    .dataframe thead th {\n",
       "        text-align: right;\n",
       "    }\n",
       "</style>\n",
       "<table border=\"1\" class=\"dataframe\">\n",
       "  <thead>\n",
       "    <tr style=\"text-align: right;\">\n",
       "      <th></th>\n",
       "      <th>Innings Player</th>\n",
       "      <th>Innings Overs Bowled</th>\n",
       "      <th>Innings Bowled Flag</th>\n",
       "      <th>Innings Maidens Bowled</th>\n",
       "      <th>Innings Runs Conceded</th>\n",
       "      <th>Innings Wickets Taken</th>\n",
       "      <th>4 Wickets</th>\n",
       "      <th>5 Wickets</th>\n",
       "      <th>Innings Economy Rate</th>\n",
       "      <th>Country</th>\n",
       "    </tr>\n",
       "  </thead>\n",
       "  <tbody>\n",
       "    <tr>\n",
       "      <th>94439</th>\n",
       "      <td>JC Laker</td>\n",
       "      <td>51.2</td>\n",
       "      <td>1</td>\n",
       "      <td>23</td>\n",
       "      <td>53</td>\n",
       "      <td>10</td>\n",
       "      <td>0</td>\n",
       "      <td>0</td>\n",
       "      <td>1.03</td>\n",
       "      <td>England</td>\n",
       "    </tr>\n",
       "    <tr>\n",
       "      <th>94440</th>\n",
       "      <td>GA Lohmann</td>\n",
       "      <td>14.2</td>\n",
       "      <td>1</td>\n",
       "      <td>6</td>\n",
       "      <td>28</td>\n",
       "      <td>9</td>\n",
       "      <td>0</td>\n",
       "      <td>1</td>\n",
       "      <td>2.33</td>\n",
       "      <td>England</td>\n",
       "    </tr>\n",
       "    <tr>\n",
       "      <th>94441</th>\n",
       "      <td>JC Laker</td>\n",
       "      <td>16.4</td>\n",
       "      <td>1</td>\n",
       "      <td>4</td>\n",
       "      <td>37</td>\n",
       "      <td>9</td>\n",
       "      <td>0</td>\n",
       "      <td>1</td>\n",
       "      <td>2.22</td>\n",
       "      <td>England</td>\n",
       "    </tr>\n",
       "    <tr>\n",
       "      <th>94442</th>\n",
       "      <td>DE Malcolm</td>\n",
       "      <td>16.3</td>\n",
       "      <td>1</td>\n",
       "      <td>2</td>\n",
       "      <td>57</td>\n",
       "      <td>9</td>\n",
       "      <td>0</td>\n",
       "      <td>1</td>\n",
       "      <td>3.45</td>\n",
       "      <td>England</td>\n",
       "    </tr>\n",
       "    <tr>\n",
       "      <th>94443</th>\n",
       "      <td>SF Barnes</td>\n",
       "      <td>38.4</td>\n",
       "      <td>1</td>\n",
       "      <td>7</td>\n",
       "      <td>103</td>\n",
       "      <td>9</td>\n",
       "      <td>0</td>\n",
       "      <td>1</td>\n",
       "      <td>2.66</td>\n",
       "      <td>England</td>\n",
       "    </tr>\n",
       "  </tbody>\n",
       "</table>\n",
       "</div>"
      ],
      "text/plain": [
       "      Innings Player  Innings Overs Bowled  Innings Bowled Flag  Innings Maidens Bowled  Innings Runs Conceded  Innings Wickets Taken  4 Wickets  5 Wickets  Innings Economy Rate  Country\n",
       "94439  JC Laker       51.2                  1                    23                      53                     10                     0          0          1.03                  England\n",
       "94440  GA Lohmann     14.2                  1                    6                       28                     9                      0          1          2.33                  England\n",
       "94441  JC Laker       16.4                  1                    4                       37                     9                      0          1          2.22                  England\n",
       "94442  DE Malcolm     16.3                  1                    2                       57                     9                      0          1          3.45                  England\n",
       "94443  SF Barnes      38.4                  1                    7                       103                    9                      0          1          2.66                  England"
      ]
     },
     "execution_count": 170,
     "metadata": {},
     "output_type": "execute_result"
    }
   ],
   "source": [
    "df_bowling.head()"
   ]
  },
  {
   "cell_type": "code",
   "execution_count": 36,
   "id": "131a9e64",
   "metadata": {},
   "outputs": [],
   "source": [
    "req_df = df_bowling[(df_bowling.Country=='Australia')]"
   ]
  },
  {
   "cell_type": "code",
   "execution_count": 174,
   "id": "2b89c2bf",
   "metadata": {},
   "outputs": [
    {
     "data": {
      "text/html": [
       "<div>\n",
       "<style scoped>\n",
       "    .dataframe tbody tr th:only-of-type {\n",
       "        vertical-align: middle;\n",
       "    }\n",
       "\n",
       "    .dataframe tbody tr th {\n",
       "        vertical-align: top;\n",
       "    }\n",
       "\n",
       "    .dataframe thead th {\n",
       "        text-align: right;\n",
       "    }\n",
       "</style>\n",
       "<table border=\"1\" class=\"dataframe\">\n",
       "  <thead>\n",
       "    <tr style=\"text-align: right;\">\n",
       "      <th></th>\n",
       "      <th>Innings Player</th>\n",
       "      <th>Innings Overs Bowled</th>\n",
       "      <th>Innings Bowled Flag</th>\n",
       "      <th>Innings Maidens Bowled</th>\n",
       "      <th>Innings Runs Conceded</th>\n",
       "      <th>Innings Wickets Taken</th>\n",
       "      <th>4 Wickets</th>\n",
       "      <th>5 Wickets</th>\n",
       "      <th>Innings Economy Rate</th>\n",
       "      <th>Country</th>\n",
       "    </tr>\n",
       "  </thead>\n",
       "  <tbody>\n",
       "    <tr>\n",
       "      <th>115009</th>\n",
       "      <td>AA Mailey</td>\n",
       "      <td>47.0</td>\n",
       "      <td>1</td>\n",
       "      <td>8</td>\n",
       "      <td>121</td>\n",
       "      <td>9</td>\n",
       "      <td>0</td>\n",
       "      <td>1</td>\n",
       "      <td>2.57</td>\n",
       "      <td>Australia</td>\n",
       "    </tr>\n",
       "    <tr>\n",
       "      <th>115010</th>\n",
       "      <td>GD McGrath</td>\n",
       "      <td>16.0</td>\n",
       "      <td>1</td>\n",
       "      <td>8</td>\n",
       "      <td>24</td>\n",
       "      <td>8</td>\n",
       "      <td>0</td>\n",
       "      <td>1</td>\n",
       "      <td>1.50</td>\n",
       "      <td>Australia</td>\n",
       "    </tr>\n",
       "    <tr>\n",
       "      <th>115011</th>\n",
       "      <td>FJ Laver</td>\n",
       "      <td>18.2</td>\n",
       "      <td>1</td>\n",
       "      <td>7</td>\n",
       "      <td>31</td>\n",
       "      <td>8</td>\n",
       "      <td>0</td>\n",
       "      <td>1</td>\n",
       "      <td>1.69</td>\n",
       "      <td>Australia</td>\n",
       "    </tr>\n",
       "    <tr>\n",
       "      <th>115012</th>\n",
       "      <td>GD McGrath</td>\n",
       "      <td>20.3</td>\n",
       "      <td>1</td>\n",
       "      <td>8</td>\n",
       "      <td>38</td>\n",
       "      <td>8</td>\n",
       "      <td>0</td>\n",
       "      <td>1</td>\n",
       "      <td>1.85</td>\n",
       "      <td>Australia</td>\n",
       "    </tr>\n",
       "    <tr>\n",
       "      <th>115013</th>\n",
       "      <td>AE Trott</td>\n",
       "      <td>27.0</td>\n",
       "      <td>1</td>\n",
       "      <td>10</td>\n",
       "      <td>43</td>\n",
       "      <td>8</td>\n",
       "      <td>0</td>\n",
       "      <td>1</td>\n",
       "      <td>1.59</td>\n",
       "      <td>Australia</td>\n",
       "    </tr>\n",
       "  </tbody>\n",
       "</table>\n",
       "</div>"
      ],
      "text/plain": [
       "       Innings Player  Innings Overs Bowled  Innings Bowled Flag  Innings Maidens Bowled  Innings Runs Conceded  Innings Wickets Taken  4 Wickets  5 Wickets  Innings Economy Rate    Country\n",
       "115009  AA Mailey      47.0                  1                    8                       121                    9                      0          1          2.57                  Australia\n",
       "115010  GD McGrath     16.0                  1                    8                       24                     8                      0          1          1.50                  Australia\n",
       "115011  FJ Laver       18.2                  1                    7                       31                     8                      0          1          1.69                  Australia\n",
       "115012  GD McGrath     20.3                  1                    8                       38                     8                      0          1          1.85                  Australia\n",
       "115013  AE Trott       27.0                  1                    10                      43                     8                      0          1          1.59                  Australia"
      ]
     },
     "execution_count": 174,
     "metadata": {},
     "output_type": "execute_result"
    }
   ],
   "source": [
    "req_df.head()"
   ]
  },
  {
   "cell_type": "code",
   "execution_count": 160,
   "id": "ab89b027",
   "metadata": {},
   "outputs": [
    {
     "data": {
      "text/plain": [
       "0    7504\n",
       "1    620 \n",
       "Name: 5 Wickets, dtype: int64"
      ]
     },
     "execution_count": 160,
     "metadata": {},
     "output_type": "execute_result"
    }
   ],
   "source": [
    "req_df['5 Wickets'].value_counts()"
   ]
  },
  {
   "cell_type": "code",
   "execution_count": 162,
   "id": "c40e33ac",
   "metadata": {},
   "outputs": [],
   "source": [
    "DF = req_df[req_df['5 Wickets']!=0]"
   ]
  },
  {
   "cell_type": "code",
   "execution_count": 172,
   "id": "0eefb238",
   "metadata": {},
   "outputs": [
    {
     "data": {
      "text/html": [
       "<div>\n",
       "<style scoped>\n",
       "    .dataframe tbody tr th:only-of-type {\n",
       "        vertical-align: middle;\n",
       "    }\n",
       "\n",
       "    .dataframe tbody tr th {\n",
       "        vertical-align: top;\n",
       "    }\n",
       "\n",
       "    .dataframe thead th {\n",
       "        text-align: right;\n",
       "    }\n",
       "</style>\n",
       "<table border=\"1\" class=\"dataframe\">\n",
       "  <thead>\n",
       "    <tr style=\"text-align: right;\">\n",
       "      <th></th>\n",
       "      <th>Innings Player</th>\n",
       "      <th>Innings Overs Bowled</th>\n",
       "      <th>Innings Bowled Flag</th>\n",
       "      <th>Innings Maidens Bowled</th>\n",
       "      <th>Innings Runs Conceded</th>\n",
       "      <th>Innings Wickets Taken</th>\n",
       "      <th>4 Wickets</th>\n",
       "      <th>5 Wickets</th>\n",
       "      <th>Innings Economy Rate</th>\n",
       "      <th>Country</th>\n",
       "    </tr>\n",
       "  </thead>\n",
       "  <tbody>\n",
       "    <tr>\n",
       "      <th>115009</th>\n",
       "      <td>AA Mailey</td>\n",
       "      <td>47.0</td>\n",
       "      <td>1</td>\n",
       "      <td>8</td>\n",
       "      <td>121</td>\n",
       "      <td>9</td>\n",
       "      <td>0</td>\n",
       "      <td>1</td>\n",
       "      <td>2.57</td>\n",
       "      <td>Australia</td>\n",
       "    </tr>\n",
       "    <tr>\n",
       "      <th>115010</th>\n",
       "      <td>GD McGrath</td>\n",
       "      <td>16.0</td>\n",
       "      <td>1</td>\n",
       "      <td>8</td>\n",
       "      <td>24</td>\n",
       "      <td>8</td>\n",
       "      <td>0</td>\n",
       "      <td>1</td>\n",
       "      <td>1.50</td>\n",
       "      <td>Australia</td>\n",
       "    </tr>\n",
       "    <tr>\n",
       "      <th>115011</th>\n",
       "      <td>FJ Laver</td>\n",
       "      <td>18.2</td>\n",
       "      <td>1</td>\n",
       "      <td>7</td>\n",
       "      <td>31</td>\n",
       "      <td>8</td>\n",
       "      <td>0</td>\n",
       "      <td>1</td>\n",
       "      <td>1.69</td>\n",
       "      <td>Australia</td>\n",
       "    </tr>\n",
       "    <tr>\n",
       "      <th>115012</th>\n",
       "      <td>GD McGrath</td>\n",
       "      <td>20.3</td>\n",
       "      <td>1</td>\n",
       "      <td>8</td>\n",
       "      <td>38</td>\n",
       "      <td>8</td>\n",
       "      <td>0</td>\n",
       "      <td>1</td>\n",
       "      <td>1.85</td>\n",
       "      <td>Australia</td>\n",
       "    </tr>\n",
       "    <tr>\n",
       "      <th>115013</th>\n",
       "      <td>AE Trott</td>\n",
       "      <td>27.0</td>\n",
       "      <td>1</td>\n",
       "      <td>10</td>\n",
       "      <td>43</td>\n",
       "      <td>8</td>\n",
       "      <td>0</td>\n",
       "      <td>1</td>\n",
       "      <td>1.59</td>\n",
       "      <td>Australia</td>\n",
       "    </tr>\n",
       "  </tbody>\n",
       "</table>\n",
       "</div>"
      ],
      "text/plain": [
       "       Innings Player  Innings Overs Bowled  Innings Bowled Flag  Innings Maidens Bowled  Innings Runs Conceded  Innings Wickets Taken  4 Wickets  5 Wickets  Innings Economy Rate    Country\n",
       "115009  AA Mailey      47.0                  1                    8                       121                    9                      0          1          2.57                  Australia\n",
       "115010  GD McGrath     16.0                  1                    8                       24                     8                      0          1          1.50                  Australia\n",
       "115011  FJ Laver       18.2                  1                    7                       31                     8                      0          1          1.69                  Australia\n",
       "115012  GD McGrath     20.3                  1                    8                       38                     8                      0          1          1.85                  Australia\n",
       "115013  AE Trott       27.0                  1                    10                      43                     8                      0          1          1.59                  Australia"
      ]
     },
     "execution_count": 172,
     "metadata": {},
     "output_type": "execute_result"
    }
   ],
   "source": [
    "DF.head()"
   ]
  },
  {
   "cell_type": "code",
   "execution_count": 176,
   "id": "d3a875ee",
   "metadata": {},
   "outputs": [
    {
     "data": {
      "text/plain": [
       "SK Warne       37\n",
       "GD McGrath     29\n",
       "DK Lillee      23\n",
       "CV Grimmett    21\n",
       "R Benaud       16\n",
       "Name: Innings Player, dtype: int64"
      ]
     },
     "execution_count": 176,
     "metadata": {},
     "output_type": "execute_result"
    }
   ],
   "source": [
    "DF['Innings Player'].value_counts()[:5]"
   ]
  },
  {
   "cell_type": "code",
   "execution_count": 193,
   "id": "904cddfc",
   "metadata": {},
   "outputs": [
    {
     "data": {
      "image/png": "[encoded data removed]",
      "text/plain": [
       "<Figure size 432x288 with 1 Axes>"
      ]
     },
     "metadata": {
      "needs_background": "light"
     },
     "output_type": "display_data"
    }
   ],
   "source": [
    "plt.bar(list(DF['Innings Player'].value_counts()[:5].keys()),  list(DF['Innings Player'].value_counts()[:5]),color=['green','red','blue','yellow','orange']        )\n",
    "\n",
    "\n",
    "\n",
    "plt.title(' Most Number Of 5 Wicket Hauls For Aus ')\n",
    "plt.xlabel('Bowler ')\n",
    "plt.ylabel('5 Wicket Hauls')\n",
    "plt.savefig('Most Number Of 5 Wicket Hauls For Aus.jpg')\n",
    "\n",
    "plt.show()"
   ]
  },
  {
   "cell_type": "code",
   "execution_count": 195,
   "id": "fb3f5ba1",
   "metadata": {},
   "outputs": [],
   "source": [
    "req_df1 = df_bowling[(df_bowling.Country=='India')]"
   ]
  },
  {
   "cell_type": "code",
   "execution_count": 201,
   "id": "3402760e",
   "metadata": {},
   "outputs": [
    {
     "data": {
      "text/plain": [
       "0    4812\n",
       "1    343 \n",
       "Name: 5 Wickets, dtype: int64"
      ]
     },
     "execution_count": 201,
     "metadata": {},
     "output_type": "execute_result"
    }
   ],
   "source": [
    "req_df1['5 Wickets'].value_counts()"
   ]
  },
  {
   "cell_type": "code",
   "execution_count": 203,
   "id": "79904b59",
   "metadata": {},
   "outputs": [],
   "source": [
    "DF1 = req_df1[req_df1['5 Wickets']!=0]"
   ]
  },
  {
   "cell_type": "code",
   "execution_count": 208,
   "id": "fb69002e",
   "metadata": {},
   "outputs": [
    {
     "data": {
      "image/png": "[encoded data removed]",
      "text/plain": [
       "<Figure size 432x288 with 1 Axes>"
      ]
     },
     "metadata": {
      "needs_background": "light"
     },
     "output_type": "display_data"
    }
   ],
   "source": [
    "plt.bar(list(DF1['Innings Player'].value_counts()[:5].keys()),  list(DF1['Innings Player'].value_counts()[:5]),color=['green','red','blue','yellow','orange'] ,       )\n",
    "\n",
    "\n",
    "\n",
    "plt.title(' Most Number Of 5 Wicket Hauls For Ind ')\n",
    "plt.xlabel('Bowler ')\n",
    "plt.ylabel('5 Wicket Hauls')\n",
    "\n",
    "plt.show()"
   ]
  },
  {
   "cell_type": "code",
   "execution_count": null,
   "id": "15818a71",
   "metadata": {},
   "outputs": [],
   "source": []
  },
  {
   "cell_type": "code",
   "execution_count": null,
   "id": "8462067b",
   "metadata": {},
   "outputs": [],
   "source": []
  },
  {
   "cell_type": "code",
   "execution_count": null,
   "id": "152a37a0",
   "metadata": {},
   "outputs": [],
   "source": []
  },
  {
   "cell_type": "code",
   "execution_count": null,
   "id": "74ca2d9c",
   "metadata": {},
   "outputs": [],
   "source": []
  },
  {
   "cell_type": "code",
   "execution_count": null,
   "id": "8df67666",
   "metadata": {},
   "outputs": [],
   "source": []
  },
  {
   "cell_type": "code",
   "execution_count": null,
   "id": "1e147c8a",
   "metadata": {},
   "outputs": [],
   "source": []
  },
  {
   "cell_type": "code",
   "execution_count": null,
   "id": "ebaf4da4",
   "metadata": {},
   "outputs": [],
   "source": []
  },
  {
   "cell_type": "code",
   "execution_count": null,
   "id": "948dc57d",
   "metadata": {},
   "outputs": [],
   "source": []
  },
  {
   "cell_type": "code",
   "execution_count": null,
   "id": "0b48f462",
   "metadata": {},
   "outputs": [],
   "source": []
  },
  {
   "cell_type": "code",
   "execution_count": null,
   "id": "1b32a8de",
   "metadata": {},
   "outputs": [],
   "source": []
  },
  {
   "cell_type": "code",
   "execution_count": null,
   "id": "1086cfbe",
   "metadata": {},
   "outputs": [],
   "source": []
  },
  {
   "cell_type": "code",
   "execution_count": null,
   "id": "d215ed6d",
   "metadata": {},
   "outputs": [],
   "source": []
  },
  {
   "cell_type": "code",
   "execution_count": null,
   "id": "c38f6c66",
   "metadata": {},
   "outputs": [],
   "source": []
  },
  {
   "cell_type": "code",
   "execution_count": null,
   "id": "e630fcfd",
   "metadata": {},
   "outputs": [],
   "source": []
  },
  {
   "cell_type": "code",
   "execution_count": null,
   "id": "75250f1d",
   "metadata": {},
   "outputs": [],
   "source": []
  },
  {
   "cell_type": "code",
   "execution_count": null,
   "id": "6dc84a75",
   "metadata": {},
   "outputs": [],
   "source": []
  },
  {
   "cell_type": "code",
   "execution_count": null,
   "id": "e91af0e9",
   "metadata": {},
   "outputs": [],
   "source": []
  },
  {
   "cell_type": "code",
   "execution_count": null,
   "id": "fc0ddea4",
   "metadata": {},
   "outputs": [],
   "source": []
  }
 ],
 "metadata": {
  "kernelspec": {
   "display_name": "Python 3 (ipykernel)",
   "language": "python",
   "name": "python3"
  },
  "language_info": {
   "codemirror_mode": {
    "name": "ipython",
    "version": 3
   },
   "file_extension": ".py",
   "mimetype": "text/x-python",
   "name": "python",
   "nbconvert_exporter": "python",
   "pygments_lexer": "ipython3",
   "version": "3.9.7"
  }
 },
 "nbformat": 4,
 "nbformat_minor": 5
}
